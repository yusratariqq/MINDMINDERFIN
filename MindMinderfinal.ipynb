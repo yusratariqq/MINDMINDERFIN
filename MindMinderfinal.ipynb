{
  "nbformat": 4,
  "nbformat_minor": 0,
  "metadata": {
    "colab": {
      "provenance": []
    },
    "kernelspec": {
      "name": "python3",
      "display_name": "Python 3"
    },
    "language_info": {
      "name": "python"
    }
  },
  "cells": [
    {
      "cell_type": "code",
      "source": [
        "pip install --upgrade openai gradio --quiet\n"
      ],
      "metadata": {
        "colab": {
          "base_uri": "https://localhost:8080/"
        },
        "id": "EomR9QL0q_v1",
        "outputId": "3a02f774-0aeb-4657-c500-d033443706f4"
      },
      "execution_count": 11,
      "outputs": [
        {
          "output_type": "stream",
          "name": "stdout",
          "text": [
            "\u001b[2K   \u001b[90m━━━━━━━━━━━━━━━━━━━━━━━━━━━━━━━━━━━━━━━━\u001b[0m \u001b[32m734.6/734.6 kB\u001b[0m \u001b[31m13.6 MB/s\u001b[0m eta \u001b[36m0:00:00\u001b[0m\n",
            "\u001b[2K   \u001b[90m━━━━━━━━━━━━━━━━━━━━━━━━━━━━━━━━━━━━━━━━\u001b[0m \u001b[32m54.3/54.3 MB\u001b[0m \u001b[31m12.2 MB/s\u001b[0m eta \u001b[36m0:00:00\u001b[0m\n",
            "\u001b[2K   \u001b[90m━━━━━━━━━━━━━━━━━━━━━━━━━━━━━━━━━━━━━━━━\u001b[0m \u001b[32m323.6/323.6 kB\u001b[0m \u001b[31m20.1 MB/s\u001b[0m eta \u001b[36m0:00:00\u001b[0m\n",
            "\u001b[?25h"
          ]
        }
      ]
    },
    {
      "cell_type": "code",
      "source": [
        "import gradio as gr\n",
        "import random\n",
        "from openai import AzureOpenAI\n",
        "\n",
        "# ✅ Azure OpenAI Configuration\n",
        "client = AzureOpenAI(\n",
        "    api_key=\"8WxLaoodYxa7XSK2rCiWuP3nqwWUShSUVd5FrjEYSqqROfIwc0qzJQQJ99BFAC77bzfXJ3w3AAABACOGweqQ\",\n",
        "    api_version=\"2024-12-01-preview\",\n",
        "    azure_endpoint=\"https://mindcraft-kapidhwaj-openai-api-key.openai.azure.com/\"\n",
        ")\n",
        "\n",
        "DEPLOYMENT_NAME = \"mindcraft-gpt4o\"\n",
        "\n",
        "# 🧠 System prompt to make GPT sound like a therapist\n",
        "SYSTEM_PROMPT = \"\"\"\n",
        "You are MindMinder, a warm, calm, and non-judgmental mental health companion.\n",
        "You gently check in on the user's mental well-being, identify if they're stressed or sad,\n",
        "respond empathetically, and offer helpful suggestions like journaling, relaxation tips, quotes,\n",
        "and more. Never give medical advice. Always encourage self-kindness.\n",
        "\"\"\"\n",
        "\n",
        "# 🌱 Suggestions to improve user mood\n",
        "SUGGESTIONS = [\n",
        "    \"Would you like to try a simple 3-minute breathing exercise?\",\n",
        "    \"Want me to share a calming quote?\",\n",
        "    \"Would you like to journal your thoughts?\",\n",
        "    \"Let’s do a quick self-reflection. I’ll ask you something light.\",\n",
        "    \"How about some gentle music? I can suggest a genre.\",\n",
        "]\n",
        "\n",
        "# 🗣️ Generate AI response\n",
        "def generate_response(user_input, chat_history):\n",
        "    messages = [{\"role\": \"system\", \"content\": SYSTEM_PROMPT}]\n",
        "\n",
        "    for human, ai in chat_history:\n",
        "        messages.append({\"role\": \"user\", \"content\": human})\n",
        "        messages.append({\"role\": \"assistant\", \"content\": ai})\n",
        "\n",
        "    messages.append({\"role\": \"user\", \"content\": user_input})\n",
        "\n",
        "    try:\n",
        "        response = client.chat.completions.create(\n",
        "            model=DEPLOYMENT_NAME,\n",
        "            messages=messages,\n",
        "            temperature=0.8,\n",
        "            max_tokens=500,\n",
        "        )\n",
        "        reply = response.choices[0].message.content\n",
        "    except Exception as e:\n",
        "        reply = f\"⚠️ Error: {str(e)}\"\n",
        "\n",
        "    suggestion = random.choice(SUGGESTIONS)\n",
        "    return reply + \"\\n\\n\" + suggestion\n",
        "\n",
        "# 🎨 Gradio UI\n",
        "with gr.Blocks() as demo:\n",
        "    gr.Markdown(\"## 🧘 MindMinder: Your Mental Health Check-In Companion\\nFeel free to share how you're doing.\")\n",
        "\n",
        "    chatbot = gr.Chatbot()\n",
        "    msg = gr.Textbox(placeholder=\"How are you feeling today?\", label=\"Your thoughts...\")\n",
        "    clear = gr.Button(\"🧹 Clear Chat\")\n",
        "\n",
        "    state = gr.State([])\n",
        "\n",
        "    def respond(message, chat_history):\n",
        "        reply = generate_response(message, chat_history)\n",
        "        chat_history = chat_history + [(message, reply)]\n",
        "        return \"\", chat_history, chat_history\n",
        "\n",
        "    msg.submit(respond, [msg, state], [msg, chatbot, state])\n",
        "    clear.click(lambda: ([], [], []), None, [chatbot, state, msg])\n",
        "\n",
        "demo.launch()\n"
      ],
      "metadata": {
        "colab": {
          "base_uri": "https://localhost:8080/",
          "height": 686
        },
        "id": "Gtbyu4KGrG-x",
        "outputId": "4bfabb00-280f-4787-ec08-02cbe12d7103"
      },
      "execution_count": 12,
      "outputs": [
        {
          "output_type": "stream",
          "name": "stderr",
          "text": [
            "/tmp/ipython-input-12-753282772.py:59: UserWarning: You have not specified a value for the `type` parameter. Defaulting to the 'tuples' format for chatbot messages, but this is deprecated and will be removed in a future version of Gradio. Please set type='messages' instead, which uses openai-style dictionaries with 'role' and 'content' keys.\n",
            "  chatbot = gr.Chatbot()\n"
          ]
        },
        {
          "output_type": "stream",
          "name": "stdout",
          "text": [
            "It looks like you are running Gradio on a hosted a Jupyter notebook. For the Gradio app to work, sharing must be enabled. Automatically setting `share=True` (you can turn this off by setting `share=False` in `launch()` explicitly).\n",
            "\n",
            "Colab notebook detected. To show errors in colab notebook, set debug=True in launch()\n",
            "* Running on public URL: https://4fed1d2abc6d0d10b7.gradio.live\n",
            "\n",
            "This share link expires in 1 week. For free permanent hosting and GPU upgrades, run `gradio deploy` from the terminal in the working directory to deploy to Hugging Face Spaces (https://huggingface.co/spaces)\n"
          ]
        },
        {
          "output_type": "display_data",
          "data": {
            "text/plain": [
              "<IPython.core.display.HTML object>"
            ],
            "text/html": [
              "<div><iframe src=\"https://4fed1d2abc6d0d10b7.gradio.live\" width=\"100%\" height=\"500\" allow=\"autoplay; camera; microphone; clipboard-read; clipboard-write;\" frameborder=\"0\" allowfullscreen></iframe></div>"
            ]
          },
          "metadata": {}
        },
        {
          "output_type": "execute_result",
          "data": {
            "text/plain": []
          },
          "metadata": {},
          "execution_count": 12
        }
      ]
    }
  ]
}